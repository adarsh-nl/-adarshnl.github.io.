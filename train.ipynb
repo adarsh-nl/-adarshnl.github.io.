{
  "nbformat": 4,
  "nbformat_minor": 0,
  "metadata": {
    "kernelspec": {
      "display_name": "Python 3",
      "language": "python",
      "name": "python3"
    },
    "language_info": {
      "codemirror_mode": {
        "name": "ipython",
        "version": 3
      },
      "file_extension": ".py",
      "mimetype": "text/x-python",
      "name": "python",
      "nbconvert_exporter": "python",
      "pygments_lexer": "ipython3",
      "version": "3.8.5"
    },
    "colab": {
      "name": "train.ipynb",
      "provenance": [],
      "collapsed_sections": [],
      "toc_visible": true,
      "include_colab_link": true
    }
  },
  "cells": [
    {
      "cell_type": "markdown",
      "metadata": {
        "id": "view-in-github",
        "colab_type": "text"
      },
      "source": [
        "<a href=\"https://colab.research.google.com/github/adarsh-nl/-adarshnl.github.io./blob/master/train.ipynb\" target=\"_parent\"><img src=\"https://colab.research.google.com/assets/colab-badge.svg\" alt=\"Open In Colab\"/></a>"
      ]
    },
    {
      "cell_type": "markdown",
      "metadata": {
        "id": "lX3EF4VwS0wD"
      },
      "source": [
        "# import libraries"
      ]
    },
    {
      "cell_type": "code",
      "metadata": {
        "id": "icbnisEUS0wN"
      },
      "source": [
        "from keras.preprocessing.image import img_to_array,load_img\n",
        "import numpy as np\n",
        "import glob\n",
        "import os \n",
        "import cv2\n",
        "\n",
        "from keras.layers import Conv3D,ConvLSTM2D,Conv3DTranspose\n",
        "from keras.models import Sequential\n",
        "from keras.callbacks import ModelCheckpoint, EarlyStopping\n",
        "import imutils"
      ],
      "execution_count": null,
      "outputs": []
    },
    {
      "cell_type": "markdown",
      "metadata": {
        "id": "44Wn6VDKS0wO"
      },
      "source": [
        "# Initialize directory path variable "
      ]
    },
    {
      "cell_type": "code",
      "metadata": {
        "id": "njMixE06S0wP"
      },
      "source": [
        "store_image=[]\n",
        "train_path=r'.\\train'\n",
        "fps=5\n",
        "train_videos='/content/drive/MyDrive/train/training_videos'\n",
        "train_images_path='/content/frames'\n",
        "#os.makedirs(train_images_path)\n",
        "\n"
      ],
      "execution_count": null,
      "outputs": []
    },
    {
      "cell_type": "markdown",
      "metadata": {
        "id": "ekxs_0NkS0wQ"
      },
      "source": [
        "# function to process and store video frames"
      ]
    },
    {
      "cell_type": "code",
      "metadata": {
        "id": "Kdb-0HkyS0wQ"
      },
      "source": [
        "def store_inarray(image_path):\n",
        "    image=load_img(image_path)\n",
        "    image=img_to_array(image)\n",
        "    image=cv2.resize(image, (227,227), interpolation = cv2.INTER_AREA)\n",
        "    gray=0.2989*image[:,:,0]+0.5870*image[:,:,1]+0.1140*image[:,:,2]\n",
        "    store_image.append(gray)"
      ],
      "execution_count": null,
      "outputs": []
    },
    {
      "cell_type": "markdown",
      "metadata": {
        "id": "P-Xr3MRIS0wS"
      },
      "source": [
        "# Extract frames from videos \n",
        "PS: Dont run unwantedly"
      ]
    },
    {
      "cell_type": "code",
      "metadata": {
        "id": "953MBJ4IMbsA"
      },
      "source": [
        "for video in train_videos:\r\n",
        "    os.system( 'ffmpeg -i {}/{} -r 1/{}  {}/frames/%03d.jpg'.format(train_path,video,fps,train_path))\r\n",
        "    images=os.listdir(train_images_path)\r\n",
        "    for image in images:\r\n",
        "        image_path=train_image_path + '/' + image\r\n",
        "        store_inarray(image_path)"
      ],
      "execution_count": null,
      "outputs": []
    },
    {
      "cell_type": "code",
      "metadata": {
        "id": "Or85lVJcS0wS"
      },
      "source": [
        "# Importing all necessary libraries \n",
        "import cv2 \n",
        "import os \n",
        "\n",
        "# Read the video from specified path \n",
        "cam = cv2.VideoCapture(r\"C:\\Users\\adars\\OneDrive\\Desktop\\Video surveillance\\train\\training_videos\\16.avi\")\n",
        "\n",
        "try: \n",
        "\t\n",
        "\t# creating a folder named data \n",
        "\tif not os.path.exists('data'): \n",
        "\t\tos.makedirs('data') \n",
        "\n",
        "# if not created then raise error \n",
        "except OSError: \n",
        "\tprint ('Error: Creating directory of data') \n",
        "\n",
        "# frame \n",
        "currentframe = 15086\n",
        "\n",
        "while(True): \n",
        "\t\n",
        "\t# reading from frame \n",
        "\tret,frame = cam.read() \n",
        "\n",
        "\tif ret: \n",
        "\t\t# if video is still left continue creating images \n",
        "\t\tname = './data/frame' + str(currentframe) + '.jpg'\n",
        "\t\tprint ('Creating...' + name) \n",
        "\n",
        "\t\t# writing the extracted images \n",
        "\t\tcv2.imwrite(name, frame) \n",
        "\n",
        "\t\t# increasing counter so that it will \n",
        "\t\t# show how many frames are created \n",
        "\t\tcurrentframe += 1\n",
        "\telse: \n",
        "\t\tbreak\n",
        "\n",
        "# Release all space and windows once done \n",
        "cam.release() \n",
        "cv2.destroyAllWindows() \n"
      ],
      "execution_count": null,
      "outputs": []
    },
    {
      "cell_type": "markdown",
      "metadata": {
        "id": "64yEHHHrS0wT"
      },
      "source": [
        "# Store the images in an array \n",
        "\n",
        "using the above mentioned function 'store_inarray'"
      ]
    },
    {
      "cell_type": "code",
      "metadata": {
        "id": "1aQICy0OS0wT"
      },
      "source": [
        "images=os.listdir(train_images_path)\n",
        "for image in images:\n",
        "    image_path=train_images_path + '/' + image\n",
        "    store_inarray(image_path)"
      ],
      "execution_count": null,
      "outputs": []
    },
    {
      "cell_type": "code",
      "metadata": {
        "id": "ptpndDtcS0wU"
      },
      "source": [
        "#print(store_image.shape)"
      ],
      "execution_count": null,
      "outputs": []
    },
    {
      "cell_type": "markdown",
      "metadata": {
        "id": "HLEKojAnS0wW"
      },
      "source": [
        "# Store the store_image list in a numpy file “training.npy”"
      ]
    },
    {
      "cell_type": "code",
      "metadata": {
        "id": "sPfa7Ib3S0wW"
      },
      "source": [
        "store_image=np.array(store_image)\n",
        "\n",
        "#print(store_image.shape)\n",
        "a,b,c=store_image.shape\n",
        "\n",
        "store_image.resize(b,c,a)\n",
        "store_image=(store_image-store_image.mean())/(store_image.std())\n",
        "store_image=np.clip(store_image,0,1)\n",
        "np.save('training.npy',store_image)"
      ],
      "execution_count": null,
      "outputs": []
    },
    {
      "cell_type": "markdown",
      "metadata": {
        "id": "BCZ3se5WS0wW"
      },
      "source": [
        "# Creating auto encoder architecture"
      ]
    },
    {
      "cell_type": "code",
      "metadata": {
        "id": "j4k6QgVQS0wW"
      },
      "source": [
        "stae_model=Sequential()\n",
        "\n",
        "stae_model.add(Conv3D(filters=128,kernel_size=(11,11,1),strides=(4,4,1),padding='valid',input_shape=(227,227,10,1),activation='tanh'))\n",
        "stae_model.add(Conv3D(filters=64,kernel_size=(5,5,1),strides=(2,2,1),padding='valid',activation='tanh'))\n",
        "stae_model.add(ConvLSTM2D(filters=64,kernel_size=(3,3),strides=1,padding='same',dropout=0.4,recurrent_dropout=0.3,return_sequences=True))\n",
        "stae_model.add(ConvLSTM2D(filters=32,kernel_size=(3,3),strides=1,padding='same',dropout=0.3,return_sequences=True))\n",
        "stae_model.add(ConvLSTM2D(filters=64,kernel_size=(3,3),strides=1,return_sequences=True, padding='same',dropout=0.5))\n",
        "stae_model.add(Conv3DTranspose(filters=128,kernel_size=(5,5,1),strides=(2,2,1),padding='valid',activation='tanh'))\n",
        "stae_model.add(Conv3DTranspose(filters=1,kernel_size=(11,11,1),strides=(4,4,1),padding='valid',activation='tanh'))\n",
        "\n",
        "stae_model.compile(optimizer='adam',loss='mean_squared_error',metrics=['accuracy'])"
      ],
      "execution_count": null,
      "outputs": []
    },
    {
      "cell_type": "code",
      "metadata": {
        "id": "YAmuHVuJS0wX"
      },
      "source": [
        "training_data=np.load('training.npy')\n",
        "frames=training_data.shape[2]\n",
        "frames=frames-frames%10"
      ],
      "execution_count": null,
      "outputs": []
    },
    {
      "cell_type": "code",
      "metadata": {
        "id": "3hv78s9iS0wY"
      },
      "source": [
        "training_data=training_data[:,:,:frames]\n",
        "training_data=training_data.reshape(-1,227,227,10)\n",
        "training_data=np.expand_dims(training_data,axis=4)\n",
        "target_data=training_data.copy()"
      ],
      "execution_count": null,
      "outputs": []
    },
    {
      "cell_type": "markdown",
      "metadata": {
        "id": "cYlAedV8S0wY"
      },
      "source": [
        "# Creating Check point "
      ]
    },
    {
      "cell_type": "code",
      "metadata": {
        "id": "zKM8SAh9S0wZ"
      },
      "source": [
        "checkpoint_path=r\"/content/drive/MyDrive/train/cp.ckpt\""
      ],
      "execution_count": null,
      "outputs": []
    },
    {
      "cell_type": "code",
      "metadata": {
        "id": "D8kROs6kS0wZ"
      },
      "source": [
        "checkpoint_dir = os.path.dirname(checkpoint_path)\n",
        "\n",
        "#create a call back that saves the models weights\n",
        "cp_callback = ModelCheckpoint(filepath=checkpoint_path, save_weights_only=True, verbose=1)"
      ],
      "execution_count": null,
      "outputs": []
    },
    {
      "cell_type": "code",
      "metadata": {
        "id": "ATjOTKkJS0wa"
      },
      "source": [
        "epochs=10\n",
        "batch_size=1"
      ],
      "execution_count": null,
      "outputs": []
    },
    {
      "cell_type": "code",
      "metadata": {
        "id": "9DuSxyZJS0wb",
        "colab": {
          "base_uri": "https://localhost:8080/"
        },
        "outputId": "7f802019-7448-4880-9d86-28d9e5832574"
      },
      "source": [
        "stae_model.fit(training_data,target_data, batch_size=batch_size, epochs=epochs, callbacks = [cp_callback])"
      ],
      "execution_count": null,
      "outputs": [
        {
          "output_type": "stream",
          "text": [
            "Epoch 1/10\n",
            "1436/1436 [==============================] - 3298s 2s/step - loss: 0.1098 - accuracy: 0.6847\n",
            "\n",
            "Epoch 00001: saving model to /content/drive/MyDrive/train/cp.ckpt\n",
            "Epoch 2/10\n",
            "1436/1436 [==============================] - 3293s 2s/step - loss: 0.0692 - accuracy: 0.7378\n",
            "\n",
            "Epoch 00002: saving model to /content/drive/MyDrive/train/cp.ckpt\n",
            "Epoch 3/10\n",
            "1436/1436 [==============================] - 3256s 2s/step - loss: 0.0685 - accuracy: 0.7383\n",
            "\n",
            "Epoch 00003: saving model to /content/drive/MyDrive/train/cp.ckpt\n",
            "Epoch 4/10\n",
            "1436/1436 [==============================] - 3237s 2s/step - loss: 0.0487 - accuracy: 0.7541\n",
            "\n",
            "Epoch 00004: saving model to /content/drive/MyDrive/train/cp.ckpt\n",
            "Epoch 5/10\n",
            "1436/1436 [==============================] - 3330s 2s/step - loss: 0.0316 - accuracy: 0.7725\n",
            "\n",
            "Epoch 00005: saving model to /content/drive/MyDrive/train/cp.ckpt\n",
            "Epoch 6/10\n",
            "1436/1436 [==============================] - 3335s 2s/step - loss: 0.0277 - accuracy: 0.7766\n",
            "\n",
            "Epoch 00006: saving model to /content/drive/MyDrive/train/cp.ckpt\n",
            "Epoch 7/10\n",
            "1436/1436 [==============================] - 3386s 2s/step - loss: 0.0258 - accuracy: 0.7787\n",
            "\n",
            "Epoch 00007: saving model to /content/drive/MyDrive/train/cp.ckpt\n",
            "Epoch 8/10\n",
            "1436/1436 [==============================] - 3356s 2s/step - loss: 0.0246 - accuracy: 0.7797\n",
            "\n",
            "Epoch 00008: saving model to /content/drive/MyDrive/train/cp.ckpt\n",
            "Epoch 9/10\n",
            "1436/1436 [==============================] - 3383s 2s/step - loss: 0.0238 - accuracy: 0.7804\n",
            "\n",
            "Epoch 00009: saving model to /content/drive/MyDrive/train/cp.ckpt\n",
            "Epoch 10/10\n",
            "1436/1436 [==============================] - 3370s 2s/step - loss: 0.0232 - accuracy: 0.7810\n",
            "\n",
            "Epoch 00010: saving model to /content/drive/MyDrive/train/cp.ckpt\n"
          ],
          "name": "stdout"
        },
        {
          "output_type": "execute_result",
          "data": {
            "text/plain": [
              "<tensorflow.python.keras.callbacks.History at 0x7f48c2087208>"
            ]
          },
          "metadata": {
            "tags": []
          },
          "execution_count": 16
        }
      ]
    },
    {
      "cell_type": "code",
      "metadata": {
        "id": "a2xLZYErtfw2"
      },
      "source": [
        "stae_model.save('my_model.h5')"
      ],
      "execution_count": null,
      "outputs": []
    },
    {
      "cell_type": "markdown",
      "metadata": {
        "id": "pk8OQKVuDzP2"
      },
      "source": [
        "# **Mounting Drive to access the files from drive**"
      ]
    },
    {
      "cell_type": "code",
      "metadata": {
        "colab": {
          "base_uri": "https://localhost:8080/"
        },
        "id": "zA_VgP9pdg1r",
        "outputId": "d07c6b86-5a3f-48cc-c9eb-e4454aebf579"
      },
      "source": [
        "from google.colab import drive\n",
        "drive.mount('/content/drive')"
      ],
      "execution_count": null,
      "outputs": [
        {
          "output_type": "stream",
          "text": [
            "Mounted at /content/drive\n"
          ],
          "name": "stdout"
        }
      ]
    },
    {
      "cell_type": "code",
      "metadata": {
        "id": "gsHUy4QRq5-C",
        "colab": {
          "base_uri": "https://localhost:8080/"
        },
        "outputId": "2928775d-4b35-479e-edae-fe1549153223"
      },
      "source": [
        "!ls \"/content/drive/MyDrive/train\""
      ],
      "execution_count": null,
      "outputs": [
        {
          "output_type": "stream",
          "text": [
            "checkpoint\t\t     cp.ckpt.index  training_videos\n",
            "cp.ckpt.data-00000-of-00001  frames.zip\n"
          ],
          "name": "stdout"
        }
      ]
    },
    {
      "cell_type": "code",
      "metadata": {
        "id": "g3Q1ByRVGlAA"
      },
      "source": [
        "!unzip -q \"/content/drive/MyDrive/train/frames.zip\""
      ],
      "execution_count": null,
      "outputs": []
    },
    {
      "cell_type": "code",
      "metadata": {
        "id": "iyQQpSLcPW1V"
      },
      "source": [
        ""
      ],
      "execution_count": null,
      "outputs": []
    },
    {
      "cell_type": "code",
      "metadata": {
        "id": "nMTh0wAKPvPF"
      },
      "source": [
        ""
      ],
      "execution_count": null,
      "outputs": []
    }
  ]
}